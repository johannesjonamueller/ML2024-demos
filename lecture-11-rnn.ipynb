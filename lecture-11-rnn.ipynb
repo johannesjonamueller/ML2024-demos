{
 "cells": [
  {
   "cell_type": "markdown",
   "metadata": {},
   "source": [
    "# Lecture 11 Demo: RNN\n",
    "\n",
    "This demo is adapted from [this Pytorch tutorial](https://pytorch.org/tutorials/intermediate/char_rnn_classification_tutorial.html).\n",
    "\n",
    "## NLP From Scratch: Classifying Names with a Character-Level RNN\n",
    "\n",
    "\n",
    "**Original Author**: [Sean Robertson](https://github.com/spro)  \n",
    "*Modified by Drew Dimmery on 2024-04-22*\n",
    "\n",
    "We will be building and training a basic character-level Recurrent\n",
    "Neural Network (RNN) to classify words. This tutorial, along with two\n",
    "other Natural Language Processing (NLP) \\\"from scratch\\\" tutorials\n",
    "`/intermediate/char_rnn_generation_tutorial` and\n",
    "`/intermediate/seq2seq_translation_tutorial`, show how to preprocess data to model NLP. In particular\n",
    "these tutorials do not use many of the convenience functions of\n",
    "`torchtext`, so you can see how preprocessing to model NLP\n",
    "works at a low level.\n",
    "\n",
    "A character-level RNN reads words as a series of characters -outputting\n",
    "a prediction and \\\"hidden state\\\" at each step, feeding its previous\n",
    "hidden state into each next step. We take the final prediction to be the\n",
    "output, i.e. which class the word belongs to.\n",
    "\n",
    "Specifically, we\\'ll train on a few thousand surnames from 18 languages\n",
    "of origin, and predict which language a name is from based on the\n",
    "spelling:\n",
    "\n",
    "``` {.sourceCode .sh}\n",
    "$ python predict.py Hinton\n",
    "(-0.47) Scottish\n",
    "(-1.52) English\n",
    "(-3.57) Irish\n",
    "\n",
    "$ python predict.py Schmidhuber\n",
    "(-0.19) German\n",
    "(-2.48) Czech\n",
    "(-2.68) Dutch\n",
    "```\n",
    "\n",
    "Recommended Readings\n",
    "-----------------------\n",
    "\n",
    "For some additional background on RNNs and how they work:\n",
    "\n",
    "-   [The Unreasonable Effectiveness of Recurrent Neural\n",
    "    Networks](https://karpathy.github.io/2015/05/21/rnn-effectiveness/)\n",
    "    shows a bunch of real life examples\n",
    "-   [Understanding LSTM\n",
    "    Networks](https://colah.github.io/posts/2015-08-Understanding-LSTMs/)\n",
    "    is about LSTMs specifically but also informative about RNNs in\n",
    "    general\n",
    "\n",
    "Preparing the Data\n",
    "------------------\n",
    "\n",
    "[Download the data from here](https://download.pytorch.org/tutorial/data.zip) and extract it to the current directory.\n",
    "\n",
    "Included in the `data/names` directory are 18 text files named as\n",
    "`[Language].txt`. Each file contains a bunch of names, one name per\n",
    "line, mostly romanized (but we still need to convert from Unicode to\n",
    "ASCII).\n",
    "\n",
    "We\\'ll end up with a dictionary of lists of names per language,\n",
    "`{language: [names ...]}`. The generic variables \\\"category\\\" and\n",
    "\\\"line\\\" (for language and name in our case) are used for later\n",
    "extensibility."
   ]
  },
  {
   "cell_type": "code",
   "execution_count": 15,
   "metadata": {},
   "outputs": [],
   "source": [
    "import utils as utils\n",
    "import os\n",
    "import numpy as np\n",
    "import torch\n",
    "import torch.nn as nn\n",
    "import torch.nn.functional as F"
   ]
  },
  {
   "cell_type": "code",
   "execution_count": 16,
   "metadata": {},
   "outputs": [
    {
     "name": "stdout",
     "output_type": "stream",
     "text": [
      "['dataRNN/names/Czech.txt', 'dataRNN/names/German.txt', 'dataRNN/names/Arabic.txt', 'dataRNN/names/Japanese.txt', 'dataRNN/names/Chinese.txt', 'dataRNN/names/Vietnamese.txt', 'dataRNN/names/Russian.txt', 'dataRNN/names/French.txt', 'dataRNN/names/Irish.txt', 'dataRNN/names/English.txt', 'dataRNN/names/Spanish.txt', 'dataRNN/names/Greek.txt', 'dataRNN/names/Italian.txt', 'dataRNN/names/Portuguese.txt', 'dataRNN/names/Scottish.txt', 'dataRNN/names/Dutch.txt', 'dataRNN/names/Korean.txt', 'dataRNN/names/Polish.txt']\n"
     ]
    }
   ],
   "source": [
    "print(utils.findFiles('dataRNN/names/*.txt'))"
   ]
  },
  {
   "cell_type": "code",
   "execution_count": 20,
   "metadata": {
    "collapsed": false,
    "jupyter": {
     "outputs_hidden": false
    }
   },
   "outputs": [
    {
     "name": "stdout",
     "output_type": "stream",
     "text": [
      "Slusarski\n"
     ]
    }
   ],
   "source": [
    "print(utils.unicodeToAscii('Ślusàrski'))\n",
    "\n",
    "fraction_test = 0.25\n",
    "\n",
    "# Build the lines dictionary, a list of names per language\n",
    "train_lines = {}\n",
    "test_lines = {}\n",
    "all_lines = {}\n",
    "all_categories = []\n",
    "\n",
    "# Read a file and split into lines\n",
    "def readLines(filename):\n",
    "    lines = open(filename, encoding='utf-8').read().strip().split('\\n')\n",
    "    return [utils.unicodeToAscii(line) for line in lines]\n",
    "\n",
    "for filename in utils.findFiles('dataRNN/names/*.txt'):\n",
    "    category = os.path.splitext(os.path.basename(filename))[0]\n",
    "    all_categories.append(category)\n",
    "    lines = readLines(filename)\n",
    "    n = len(lines)\n",
    "    n_test = int(np.ceil(n * fraction_test))\n",
    "    n_train = n - n_test\n",
    "    in_test = np.random.permutation([True] * n_test + [False] * n_train)\n",
    "    in_train = ~in_test\n",
    "    train_lines[category] = [line for idx, line in enumerate(lines) if in_train[idx]]\n",
    "    test_lines[category] = [line for idx, line in enumerate(lines) if in_test[idx]]\n",
    "    all_lines[category] = lines\n",
    "\n",
    "n_categories = len(all_categories)"
   ]
  },
  {
   "cell_type": "markdown",
   "metadata": {},
   "source": [
    "Now we have `category_lines`, a dictionary mapping each category\n",
    "(language) to a list of lines (names). We also kept track of\n",
    "`all_categories` (just a list of languages) and `n_categories` for later\n",
    "reference.\n"
   ]
  },
  {
   "cell_type": "code",
   "execution_count": 7,
   "metadata": {
    "collapsed": false,
    "jupyter": {
     "outputs_hidden": false
    }
   },
   "outputs": [
    {
     "name": "stdout",
     "output_type": "stream",
     "text": [
      "['Abandonato', 'Abatangelo', 'Abatantuono', 'Abate', 'Abategiovanni']\n"
     ]
    }
   ],
   "source": [
    "print(all_lines['Italian'][:5])"
   ]
  },
  {
   "cell_type": "code",
   "execution_count": 8,
   "metadata": {},
   "outputs": [
    {
     "data": {
      "text/plain": [
       "{'Czech': 519,\n",
       " 'German': 724,\n",
       " 'Arabic': 2000,\n",
       " 'Japanese': 991,\n",
       " 'Chinese': 268,\n",
       " 'Vietnamese': 73,\n",
       " 'Russian': 9408,\n",
       " 'French': 277,\n",
       " 'Irish': 232,\n",
       " 'English': 3668,\n",
       " 'Spanish': 298,\n",
       " 'Greek': 203,\n",
       " 'Italian': 709,\n",
       " 'Portuguese': 74,\n",
       " 'Scottish': 100,\n",
       " 'Dutch': 297,\n",
       " 'Korean': 94,\n",
       " 'Polish': 139}"
      ]
     },
     "execution_count": 8,
     "metadata": {},
     "output_type": "execute_result"
    }
   ],
   "source": [
    "{k: len(v) for k, v in all_lines.items()}"
   ]
  },
  {
   "cell_type": "markdown",
   "metadata": {},
   "source": [
    "Turning Names into Tensors\n",
    "==========================\n",
    "\n",
    "Now that we have all the names organized, we need to turn them into\n",
    "Tensors to make any use of them.\n",
    "\n",
    "To represent a single letter, we use a \\\"one-hot vector\\\" of size\n",
    "`<1 x n_letters>`. A one-hot vector is filled with 0s except for a 1 at\n",
    "index of the current letter, e.g. `\"b\" = <0 1 0 0 0 ...>`.\n",
    "\n",
    "To make a word we join a bunch of those into a 2D matrix\n",
    "`<line_length x 1 x n_letters>`.\n",
    "\n",
    "That extra 1 dimension is because PyTorch assumes everything is in\n",
    "batches - we\\'re just using a batch size of 1 here.\n"
   ]
  },
  {
   "cell_type": "code",
   "execution_count": 9,
   "metadata": {
    "collapsed": false,
    "jupyter": {
     "outputs_hidden": false
    }
   },
   "outputs": [
    {
     "name": "stdout",
     "output_type": "stream",
     "text": [
      "tensor([[0., 0., 0., 0., 0., 0., 0., 0., 0., 0., 0., 0., 0., 0., 0., 0., 0., 0.,\n",
      "         0., 0., 0., 0., 0., 0., 0., 0., 0., 0., 0., 0., 0., 0., 0., 0., 0., 1.,\n",
      "         0., 0., 0., 0., 0., 0., 0., 0., 0., 0., 0., 0., 0., 0., 0., 0., 0., 0.,\n",
      "         0., 0., 0.]])\n",
      "torch.Size([5, 1, 57])\n"
     ]
    }
   ],
   "source": [
    "print(utils.letterToTensor('J'))\n",
    "\n",
    "print(utils.lineToTensor('Jones').size())"
   ]
  },
  {
   "cell_type": "markdown",
   "metadata": {},
   "source": [
    "Creating the Network\n",
    "====================\n",
    "\n",
    "Before autograd, creating a recurrent neural network in Torch involved\n",
    "cloning the parameters of a layer over several timesteps. The layers\n",
    "held hidden state and gradients which are now entirely handled by the\n",
    "graph itself. This means you can implement a RNN in a very \\\"pure\\\" way,\n",
    "as regular feed-forward layers.\n",
    "\n",
    "This RNN module implements a \\\"vanilla RNN\\\" an is just 3 linear layers\n",
    "which operate on an input and hidden state, with a `LogSoftmax` layer\n",
    "after the output.\n"
   ]
  },
  {
   "cell_type": "code",
   "execution_count": 11,
   "metadata": {
    "collapsed": false,
    "jupyter": {
     "outputs_hidden": false
    }
   },
   "outputs": [],
   "source": [
    "class RNN(nn.Module):\n",
    "    def __init__(self, input_size, hidden_size, output_size):\n",
    "        super(RNN, self).__init__()\n",
    "\n",
    "        self.hidden_size = hidden_size\n",
    "\n",
    "        self.i2h = nn.Linear(input_size, hidden_size)\n",
    "        self.h2h = nn.Linear(hidden_size, hidden_size)\n",
    "        self.h2o = nn.Linear(hidden_size, output_size)\n",
    "        self.softmax = nn.LogSoftmax(dim=1)\n",
    "\n",
    "    def forward(self, input, hidden):\n",
    "        hidden = F.tanh(self.i2h(input) + self.h2h(hidden)) #pass in dand update the hidden state \n",
    "        output = self.h2o(hidden)\n",
    "        output = self.softmax(output)\n",
    "        return output, hidden\n",
    "\n",
    "    def initHidden(self):\n",
    "        return torch.zeros(1, self.hidden_size)\n",
    "\n",
    "n_hidden = 128 # just use it ! \n",
    "rnn = RNN(utils.N_LETTERS, n_hidden, n_categories)"
   ]
  },
  {
   "cell_type": "markdown",
   "metadata": {},
   "source": [
    "To run a step of this network we need to pass an input (in our case, the\n",
    "Tensor for the current letter) and a previous hidden state (which we\n",
    "initialize as zeros at first). We\\'ll get back the output (probability\n",
    "of each language) and a next hidden state (which we keep for the next\n",
    "step).\n"
   ]
  },
  {
   "cell_type": "code",
   "execution_count": 21,
   "metadata": {
    "collapsed": false,
    "jupyter": {
     "outputs_hidden": false
    }
   },
   "outputs": [],
   "source": [
    "input = utils.letterToTensor('A')\n",
    "hidden = torch.zeros(1, n_hidden)\n",
    "\n",
    "output, next_hidden = rnn(input, hidden)"
   ]
  },
  {
   "cell_type": "markdown",
   "metadata": {},
   "source": [
    "For the sake of efficiency we don\\'t want to be creating a new Tensor\n",
    "for every step, so we will use `lineToTensor` instead of\n",
    "`letterToTensor` and use slices. This could be further optimized by\n",
    "precomputing batches of Tensors.\n"
   ]
  },
  {
   "cell_type": "code",
   "execution_count": 22,
   "metadata": {
    "collapsed": false,
    "jupyter": {
     "outputs_hidden": false
    }
   },
   "outputs": [
    {
     "name": "stdout",
     "output_type": "stream",
     "text": [
      "tensor([[0.0560, 0.0609, 0.0528, 0.0568, 0.0549, 0.0511, 0.0464, 0.0550, 0.0552,\n",
      "         0.0553, 0.0556, 0.0564, 0.0643, 0.0470, 0.0533, 0.0555, 0.0562, 0.0673]],\n",
      "       grad_fn=<ExpBackward0>)\n"
     ]
    }
   ],
   "source": [
    "input = utils.lineToTensor('Albert')\n",
    "hidden = torch.zeros(1, n_hidden)\n",
    "\n",
    "output, next_hidden = rnn(input[0], hidden)\n",
    "print(torch.exp(output))"
   ]
  },
  {
   "cell_type": "markdown",
   "metadata": {},
   "source": [
    "As you can see the output is a `<1 x n_categories>` Tensor, where every\n",
    "item is the likelihood of that category (higher is more likely).\n"
   ]
  },
  {
   "cell_type": "markdown",
   "metadata": {},
   "source": [
    "Training\n",
    "========\n",
    "\n",
    "Preparing for Training\n",
    "----------------------\n",
    "\n",
    "Before going into training we should make a few helper functions. The\n",
    "first is to interpret the output of the network, which we know to be a\n",
    "likelihood of each category. We can use `Tensor.topk` to get the index\n",
    "of the greatest value:\n"
   ]
  },
  {
   "cell_type": "code",
   "execution_count": 23,
   "metadata": {
    "collapsed": false,
    "jupyter": {
     "outputs_hidden": false
    }
   },
   "outputs": [
    {
     "name": "stdout",
     "output_type": "stream",
     "text": [
      "('Polish', 17)\n"
     ]
    }
   ],
   "source": [
    "def categoryFromOutput(output):\n",
    "    top_n, top_i = output.topk(1)\n",
    "    category_i = top_i[0].item()\n",
    "    return all_categories[category_i], category_i\n",
    "\n",
    "print(categoryFromOutput(output))"
   ]
  },
  {
   "cell_type": "markdown",
   "metadata": {},
   "source": [
    "We will also want a quick way to get a training example (a name and its\n",
    "language):\n"
   ]
  },
  {
   "cell_type": "code",
   "execution_count": 24,
   "metadata": {
    "collapsed": false,
    "jupyter": {
     "outputs_hidden": false
    }
   },
   "outputs": [
    {
     "name": "stdout",
     "output_type": "stream",
     "text": [
      "category = Arabic / name = Nader\n",
      "category = Portuguese / name = Matos\n",
      "category = Arabic / name = Cham\n",
      "category = Italian / name = Marchegiano\n",
      "category = Irish / name = Dalach\n",
      "category = Spanish / name = Garrastazu\n",
      "category = Chinese / name = Yin\n",
      "category = Greek / name = Gianakopulos\n",
      "category = English / name = Ranger\n",
      "category = English / name = Linley\n"
     ]
    }
   ],
   "source": [
    "import random\n",
    "\n",
    "def randomChoice(l):\n",
    "    return l[random.randint(0, len(l) - 1)]\n",
    "\n",
    "def randomTrainingExample():\n",
    "    category = randomChoice(all_categories)\n",
    "    line = randomChoice(train_lines[category])\n",
    "    category_tensor = torch.tensor([all_categories.index(category)], dtype=torch.long)\n",
    "    line_tensor = utils.lineToTensor(line)\n",
    "    return category, line, category_tensor, line_tensor\n",
    "\n",
    "def randomTestExample():\n",
    "    category = randomChoice(all_categories)\n",
    "    line = randomChoice(test_lines[category])\n",
    "    category_tensor = torch.tensor([all_categories.index(category)], dtype=torch.long)\n",
    "    line_tensor = utils.lineToTensor(line)\n",
    "    return category, line, category_tensor, line_tensor\n",
    "\n",
    "for i in range(10):\n",
    "    category, line, category_tensor, line_tensor = randomTrainingExample()\n",
    "    print('category =', category, '/ name =', line)"
   ]
  },
  {
   "cell_type": "markdown",
   "metadata": {},
   "source": [
    "Training the Network\n",
    "====================\n",
    "\n",
    "Now all it takes to train this network is show it a bunch of examples,\n",
    "have it make guesses, and tell it if it\\'s wrong.\n",
    "\n",
    "For the loss function `nn.NLLLoss` is appropriate, since the last layer\n",
    "of the RNN is `nn.LogSoftmax`.\n"
   ]
  },
  {
   "cell_type": "code",
   "execution_count": 25,
   "metadata": {
    "collapsed": false,
    "jupyter": {
     "outputs_hidden": false
    }
   },
   "outputs": [],
   "source": [
    "criterion = nn.NLLLoss() # just clasification ... log likelihood\n",
    "optimizer = torch.optim.Adam(rnn.parameters(), lr=3e-4)"
   ]
  },
  {
   "cell_type": "markdown",
   "metadata": {},
   "source": [
    "Each loop of training will:\n",
    "\n",
    "-   Create input and target tensors\n",
    "-   Create a zeroed initial hidden state\n",
    "-   Read each letter in and\n",
    "    -   Keep hidden state for next letter\n",
    "-   Compare final output to target\n",
    "-   Back-propagate\n",
    "-   Return the output and loss\n"
   ]
  },
  {
   "cell_type": "code",
   "execution_count": 27,
   "metadata": {
    "collapsed": false,
    "jupyter": {
     "outputs_hidden": false
    }
   },
   "outputs": [],
   "source": [
    "def train(category_tensor, line_tensor):\n",
    "    hidden = rnn.initHidden() # all zero \n",
    "\n",
    "    #rnn.zero_grad()\n",
    "    optimizer.zero_grad()  # all zero \n",
    "\n",
    "    for i in range(line_tensor.size()[0]):   # letter by letter , any lenght possible\n",
    "        output, hidden = rnn(line_tensor[i], hidden)\n",
    "\n",
    "    loss = criterion(output, category_tensor)\n",
    "    loss.backward()\n",
    "\n",
    "    # Add parameters' gradients to their values, multiplied by learning rate\n",
    "    # for p in rnn.parameters():\n",
    "    #     p.data.add_(p.grad.data, alpha=-learning_rate)\n",
    "    optimizer.step()\n",
    "\n",
    "    return output, loss.item()"
   ]
  },
  {
   "cell_type": "markdown",
   "metadata": {},
   "source": [
    "Now we just have to run that with a bunch of examples. Since the `train`\n",
    "function returns both the output and loss we can print its guesses and\n",
    "also keep track of loss for plotting. Since there are 1000s of examples\n",
    "we print only every `print_every` examples, and take an average of the\n",
    "loss.\n"
   ]
  },
  {
   "cell_type": "code",
   "execution_count": 28,
   "metadata": {
    "collapsed": false,
    "jupyter": {
     "outputs_hidden": false
    }
   },
   "outputs": [
    {
     "name": "stdout",
     "output_type": "stream",
     "text": [
      "5000 5% (0m 2s) 1.5026 Gwozdek / Polish ✓\n",
      "10000 10% (0m 5s) 1.8852 Czabal / Arabic ✗ (Czech)\n",
      "15000 15% (0m 8s) 0.4991 Ferreira / Portuguese ✓\n",
      "20000 20% (0m 10s) 1.0462 Dang / Chinese ✗ (Vietnamese)\n",
      "25000 25% (0m 13s) 0.2422 Tsangaris / Greek ✓\n",
      "30000 30% (0m 15s) 0.7500 Otten / Dutch ✓\n",
      "35000 35% (0m 18s) 0.1931 Lac / Vietnamese ✓\n",
      "40000 40% (0m 21s) 0.0991 Mersinias / Greek ✓\n",
      "45000 45% (0m 23s) 2.0454 Rios / Greek ✗ (Spanish)\n",
      "50000 50% (0m 26s) 0.6405 Nazari / Arabic ✓\n",
      "55000 55% (0m 28s) 0.0140 Karkampasis / Greek ✓\n",
      "60000 60% (0m 31s) 0.1893 Di pietro / Italian ✓\n",
      "65000 65% (0m 34s) 0.0792 Marshall / Scottish ✓\n",
      "70000 70% (0m 36s) 0.0239 Doan / Vietnamese ✓\n",
      "75000 75% (0m 39s) 1.5278 Pattison / Czech ✗ (English)\n",
      "80000 80% (0m 41s) 0.0300 Davidson / Scottish ✓\n",
      "85000 85% (0m 44s) 0.2714 Madeira / Portuguese ✓\n",
      "90000 90% (0m 47s) 0.3526 Muir / Scottish ✓\n",
      "95000 95% (0m 49s) 0.0916 Koemans / Dutch ✓\n",
      "100000 100% (0m 52s) 0.3046 Siskind / German ✓\n"
     ]
    }
   ],
   "source": [
    "import time\n",
    "import math\n",
    "\n",
    "n_iters = 100000\n",
    "print_every = 5000\n",
    "plot_every = 1000\n",
    "\n",
    "\n",
    "\n",
    "# Keep track of losses for plotting\n",
    "current_loss = 0\n",
    "all_losses = []\n",
    "\n",
    "def timeSince(since):\n",
    "    now = time.time()\n",
    "    s = now - since\n",
    "    m = math.floor(s / 60)\n",
    "    s -= m * 60\n",
    "    return '%dm %ds' % (m, s)\n",
    "\n",
    "start = time.time()\n",
    "\n",
    "for iter in range(1, n_iters + 1):\n",
    "    category, line, category_tensor, line_tensor = randomTrainingExample()\n",
    "    output, loss = train(category_tensor, line_tensor)\n",
    "    current_loss += loss\n",
    "\n",
    "    # Print ``iter`` number, loss, name and guess\n",
    "    if iter % print_every == 0:\n",
    "        guess, guess_i = categoryFromOutput(output)\n",
    "        correct = '✓' if guess == category else '✗ (%s)' % category\n",
    "        print('%d %d%% (%s) %.4f %s / %s %s' % (iter, iter / n_iters * 100, timeSince(start), loss, line, guess, correct))\n",
    "\n",
    "    # Add current loss avg to list of losses\n",
    "    if iter % plot_every == 0:\n",
    "        all_losses.append(current_loss / plot_every)\n",
    "        current_loss = 0"
   ]
  },
  {
   "cell_type": "markdown",
   "metadata": {},
   "source": [
    "Plotting the Results\n",
    "====================\n",
    "\n",
    "Plotting the historical loss from `all_losses` shows the network\n",
    "learning:\n"
   ]
  },
  {
   "cell_type": "code",
   "execution_count": 29,
   "metadata": {
    "collapsed": false,
    "jupyter": {
     "outputs_hidden": false
    }
   },
   "outputs": [
    {
     "data": {
      "text/plain": [
       "[<matplotlib.lines.Line2D at 0x1658a9b50>]"
      ]
     },
     "execution_count": 29,
     "metadata": {},
     "output_type": "execute_result"
    },
    {
     "data": {
      "image/png": "[encoded data removed]",
      "text/plain": [
       "<Figure size 640x480 with 1 Axes>"
      ]
     },
     "metadata": {},
     "output_type": "display_data"
    }
   ],
   "source": [
    "import matplotlib.pyplot as plt\n",
    "import matplotlib.ticker as ticker\n",
    "\n",
    "plt.figure()\n",
    "plt.plot(all_losses)"
   ]
  },
  {
   "cell_type": "markdown",
   "metadata": {},
   "source": [
    "Evaluating the Results\n",
    "======================\n",
    "\n",
    "To see how well the network performs on different categories, we will\n",
    "create a confusion matrix, indicating for every actual language (rows)\n",
    "which language the network guesses (columns). To calculate the confusion\n",
    "matrix a bunch of samples are run through the network with `evaluate()`,\n",
    "which is the same as `train()` minus the backprop.\n"
   ]
  },
  {
   "cell_type": "code",
   "execution_count": 30,
   "metadata": {
    "collapsed": false,
    "jupyter": {
     "outputs_hidden": false
    }
   },
   "outputs": [],
   "source": [
    "# Keep track of correct guesses in a confusion matrix\n",
    "confusion = torch.zeros(n_categories, n_categories)\n",
    "n_confusion = 10000\n",
    "\n",
    "# Just return an output given a line\n",
    "def evaluate(line_tensor):\n",
    "    hidden = rnn.initHidden()\n",
    "\n",
    "    for i in range(line_tensor.size()[0]):\n",
    "        output, hidden = rnn(line_tensor[i], hidden)\n",
    "\n",
    "    return output\n",
    "\n",
    "# Go through a bunch of examples and record which are correctly guessed\n",
    "for i in range(n_confusion):\n",
    "    category, line, category_tensor, line_tensor = randomTestExample()\n",
    "    output = evaluate(line_tensor)\n",
    "    guess, guess_i = categoryFromOutput(output)\n",
    "    category_i = all_categories.index(category)\n",
    "    confusion[category_i][guess_i] += 1\n",
    "\n",
    "# Normalize by dividing every row by its sum\n",
    "for i in range(n_categories):\n",
    "    confusion[i] = confusion[i] / confusion[i].sum()"
   ]
  },
  {
   "cell_type": "code",
   "execution_count": 17,
   "metadata": {},
   "outputs": [
    {
     "data": {
      "image/png": "[encoded data removed]",
      "text/plain": [
       "<Figure size 640x480 with 2 Axes>"
      ]
     },
     "metadata": {},
     "output_type": "display_data"
    }
   ],
   "source": [
    "fig, ax = plt.subplots()\n",
    "im, cbar = utils.heatmap(confusion.numpy().T, all_categories, all_categories, ax=ax,\n",
    "                   cmap=\"viridis\", cbarlabel=\"Fraction of labels (columns sum to one)\")\n",
    "#texts = utils.annotate_heatmap(im, valfmt=\"{x:.2f}\", textcolors = (\"grey\", \"black\"), threshold = 0.3)\n",
    "\n",
    "fig.tight_layout()\n",
    "plt.xlabel(\"Label\")\n",
    "ax.xaxis.set_label_position('top') \n",
    "plt.ylabel(\"Prediction\")\n",
    "plt.show()"
   ]
  },
  {
   "cell_type": "markdown",
   "metadata": {},
   "source": [
    "You can pick out bright spots off the main axis that show which\n",
    "languages it guesses incorrectly, e.g. Chinese for Korean, and Spanish\n",
    "for Italian. It seems to do very well with Greek, and very poorly with\n",
    "English (perhaps because of overlap with other languages).\n"
   ]
  },
  {
   "cell_type": "markdown",
   "metadata": {},
   "source": [
    "Running on User Input\n",
    "=====================\n"
   ]
  },
  {
   "cell_type": "code",
   "execution_count": 31,
   "metadata": {
    "collapsed": false,
    "jupyter": {
     "outputs_hidden": false
    }
   },
   "outputs": [
    {
     "name": "stdout",
     "output_type": "stream",
     "text": [
      "\n",
      "> Chekhov\n",
      "(1.00) Russian\n",
      "(0.00) Arabic\n",
      "(0.00) Japanese\n",
      "\n",
      "> Orwell\n",
      "(0.51) English\n",
      "(0.20) Czech\n",
      "(0.17) Dutch\n",
      "\n",
      "> Munch\n",
      "(0.49) Scottish\n",
      "(0.46) Irish\n",
      "(0.02) English\n",
      "\n",
      "> Schiele\n",
      "(0.86) Dutch\n",
      "(0.05) English\n",
      "(0.04) German\n",
      "\n",
      "> Satoshi\n",
      "(0.75) Japanese\n",
      "(0.21) Arabic\n",
      "(0.03) Italian\n",
      "\n",
      "> Dimmery\n",
      "(0.78) Scottish\n",
      "(0.21) English\n",
      "(0.00) Irish\n"
     ]
    }
   ],
   "source": [
    "def predict(input_line, n_predictions=3):\n",
    "    print('\\n> %s' % input_line)\n",
    "    with torch.no_grad():\n",
    "        output = evaluate(utils.lineToTensor(input_line))\n",
    "\n",
    "        # Get top N categories\n",
    "        topv, topi = torch.exp(output).topk(n_predictions, 1, True)\n",
    "        predictions = []\n",
    "\n",
    "        for i in range(n_predictions):\n",
    "            value = topv[0][i].item()\n",
    "            category_index = topi[0][i].item()\n",
    "            print('(%.2f) %s' % (value, all_categories[category_index]))\n",
    "            predictions.append([value, all_categories[category_index]])\n",
    "\n",
    "predict('Chekhov')\n",
    "predict('Orwell')\n",
    "predict('Munch')\n",
    "predict('Schiele')\n",
    "predict('Satoshi')\n",
    "predict('Dimmery')"
   ]
  },
  {
   "cell_type": "code",
   "execution_count": null,
   "metadata": {},
   "outputs": [],
   "source": []
  }
 ],
 "metadata": {
  "kernelspec": {
   "display_name": "Python 3 (ipykernel)",
   "language": "python",
   "name": "python3"
  },
  "language_info": {
   "codemirror_mode": {
    "name": "ipython",
    "version": 3
   },
   "file_extension": ".py",
   "mimetype": "text/x-python",
   "name": "python",
   "nbconvert_exporter": "python",
   "pygments_lexer": "ipython3",
   "version": "3.11.7"
  }
 },
 "nbformat": 4,
 "nbformat_minor": 4
}
